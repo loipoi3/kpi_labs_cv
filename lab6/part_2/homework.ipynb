{
 "cells": [
  {
   "cell_type": "code",
   "execution_count": 1,
   "id": "ebf60a69",
   "metadata": {},
   "outputs": [],
   "source": [
    "import cv2"
   ]
  },
  {
   "cell_type": "code",
   "execution_count": 14,
   "id": "139e4b58",
   "metadata": {},
   "outputs": [],
   "source": [
    "video_path = './data/video1.mov'"
   ]
  },
  {
   "cell_type": "code",
   "execution_count": 15,
   "id": "c3da3744",
   "metadata": {},
   "outputs": [
    {
     "name": "stdout",
     "output_type": "stream",
     "text": [
      "The first frame is saved as './data/first_frame_video1.jpg'\n"
     ]
    }
   ],
   "source": [
    "cap = cv2.VideoCapture(video_path)\n",
    "\n",
    "if not cap.isOpened():\n",
    "    print(\"Error opening video file\")\n",
    "else:\n",
    "    ret, first_frame = cap.read()\n",
    "\n",
    "    if ret:\n",
    "        output_filename = './data/first_frame_video1.jpg'\n",
    "\n",
    "        cv2.imwrite(output_filename, first_frame)\n",
    "\n",
    "        print(f\"The first frame is saved as '{output_filename}'\")\n",
    "    else:\n",
    "        print(\"Error reading the first frame\")\n",
    "\n",
    "cap.release()"
   ]
  },
  {
   "cell_type": "code",
   "execution_count": 16,
   "id": "b6ff4476",
   "metadata": {},
   "outputs": [],
   "source": [
    "# Load the video\n",
    "cap = cv2.VideoCapture(video_path)\n",
    "\n",
    "# Initialize the first tracker (e.g., KCF)\n",
    "tracker1 = cv2.TrackerKCF_create()"
   ]
  },
  {
   "cell_type": "code",
   "execution_count": 17,
   "id": "40cb92a8",
   "metadata": {},
   "outputs": [
    {
     "name": "stderr",
     "output_type": "stream",
     "text": [
      "OpenCV: FFMPEG: tag 0x44495658/'XVID' is not supported with codec id 12 and format 'mp4 / MP4 (MPEG-4 Part 14)'\n",
      "OpenCV: FFMPEG: fallback to use tag 0x7634706d/'mp4v'\n"
     ]
    }
   ],
   "source": [
    "# Read the first frame\n",
    "ret, frame = cap.read()\n",
    "if not ret:\n",
    "    raise Exception(\"Failed to read the video\")\n",
    "\n",
    "# Define the initial bounding box (you can manually select it)\n",
    "bbox1 = (843, 78, 1215, 1893)  # Set the initial bounding box\n",
    "\n",
    "# Initialize the tracker with the first frame and bounding box\n",
    "tracker1.init(frame, bbox1)\n",
    "\n",
    "# Create an output video writer (optional)\n",
    "output_path = './data/output_video_kcf.mp4'  # Replace with the desired output path\n",
    "fourcc = cv2.VideoWriter_fourcc(*'XVID')\n",
    "out = cv2.VideoWriter(output_path, fourcc, 30, (frame.shape[1], frame.shape[0]))\n",
    "\n",
    "# Run the tracker for 10-15 frames\n",
    "frame_count = 0\n",
    "while True:\n",
    "    ret, frame = cap.read()\n",
    "    if not ret:\n",
    "        break\n",
    "    \n",
    "    # Update the tracker\n",
    "    ret, bbox1 = tracker1.update(frame)\n",
    "    \n",
    "    # Draw bounding box on the frame\n",
    "    if ret:\n",
    "        x, y, w, h = [int(i) for i in bbox1]\n",
    "        cv2.rectangle(frame, (x, y), (x + w, y + h), (0, 255, 0), 2)\n",
    "    \n",
    "    # Save the frame to the output video (optional)\n",
    "    out.write(frame)\n",
    "    \n",
    "    frame_count += 1\n",
    "    if frame_count >= 50:  # Run for 10-15 frames\n",
    "        break\n",
    "\n",
    "# Release the video writer\n",
    "out.release()"
   ]
  },
  {
   "cell_type": "code",
   "execution_count": 19,
   "id": "f00f78fa",
   "metadata": {},
   "outputs": [
    {
     "name": "stderr",
     "output_type": "stream",
     "text": [
      "OpenCV: FFMPEG: tag 0x44495658/'XVID' is not supported with codec id 12 and format 'mp4 / MP4 (MPEG-4 Part 14)'\n",
      "OpenCV: FFMPEG: fallback to use tag 0x7634706d/'mp4v'\n"
     ]
    }
   ],
   "source": [
    "# Initialize the second tracker (e.g., CSRT)\n",
    "tracker2 = cv2.TrackerCSRT_create()\n",
    "\n",
    "# Reset the video capture to the beginning\n",
    "cap = cv2.VideoCapture(video_path)\n",
    "\n",
    "# Initialize the second tracker with the first frame and bounding box\n",
    "cap.set(cv2.CAP_PROP_POS_FRAMES, 0)  # Reset to the first frame\n",
    "ret, frame = cap.read()\n",
    "bbox2 = (843, 78, 1215, 1893)  # Set the initial bounding box\n",
    "tracker2.init(frame, bbox2)\n",
    "\n",
    "# Create an output video writer for the second tracker (optional)\n",
    "output_path2 = './data/output_video_csrt.mp4'  # Replace with the desired output path\n",
    "out2 = cv2.VideoWriter(output_path2, fourcc, 30, (frame.shape[1], frame.shape[0]))\n",
    "\n",
    "# Run the second tracker for 10-15 frames\n",
    "frame_count = 0\n",
    "while True:\n",
    "    ret, frame = cap.read()\n",
    "    if not ret:\n",
    "        break\n",
    "    \n",
    "    # Update the second tracker\n",
    "    ret, bbox2 = tracker2.update(frame)\n",
    "    \n",
    "    # Draw bounding box on the frame\n",
    "    if ret:\n",
    "        x, y, w, h = [int(i) for i in bbox2]\n",
    "        cv2.rectangle(frame, (x, y), (x + w, y + h), (0, 0, 255), 2)\n",
    "    \n",
    "    # Save the frame to the output video (optional)\n",
    "    out2.write(frame)\n",
    "    \n",
    "    frame_count += 1\n",
    "    if frame_count >= 50:  # Run for 10-15 frames\n",
    "        break\n",
    "\n",
    "# Release the video writer for the second tracker\n",
    "out2.release()"
   ]
  },
  {
   "cell_type": "markdown",
   "id": "ee2de7d8",
   "metadata": {},
   "source": [
    "### Step 6\n",
    "Compare the results:\n",
    "* Do you see any differences? If so, what are they?\n",
    "* Does one tracker perform better than the other? In what way?"
   ]
  },
  {
   "cell_type": "code",
   "execution_count": null,
   "id": "5336578f",
   "metadata": {},
   "outputs": [],
   "source": []
  }
 ],
 "metadata": {
  "kernelspec": {
   "display_name": "Python 3 (ipykernel)",
   "language": "python",
   "name": "python3"
  },
  "language_info": {
   "codemirror_mode": {
    "name": "ipython",
    "version": 3
   },
   "file_extension": ".py",
   "mimetype": "text/x-python",
   "name": "python",
   "nbconvert_exporter": "python",
   "pygments_lexer": "ipython3",
   "version": "3.11.5"
  }
 },
 "nbformat": 4,
 "nbformat_minor": 5
}
